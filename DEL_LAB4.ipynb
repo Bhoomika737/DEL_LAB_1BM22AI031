{
  "nbformat": 4,
  "nbformat_minor": 0,
  "metadata": {
    "colab": {
      "provenance": []
    },
    "kernelspec": {
      "name": "python3",
      "display_name": "Python 3"
    },
    "language_info": {
      "name": "python"
    }
  },
  "cells": [
    {
      "cell_type": "markdown",
      "source": [
        "1.How does a feed forward network with a multi layer perceptron architecture solve the xor problem\n",
        "2.How does a feed forward network handle multi class classification task and what are the key steps involved in propagating input data through the network to produce class probabilities using activation func like soft max"
      ],
      "metadata": {
        "id": "UxSBgelmoiNm"
      }
    },
    {
      "cell_type": "code",
      "source": [
        "import numpy as np\n",
        "def relu(x):\n",
        "  return max(0,x)\n",
        "def tn(x):\n",
        "  return np.tanh(x)"
      ],
      "metadata": {
        "id": "Cmg8n1r4pZOK"
      },
      "execution_count": null,
      "outputs": []
    },
    {
      "cell_type": "code",
      "execution_count": null,
      "metadata": {
        "colab": {
          "base_uri": "https://localhost:8080/"
        },
        "id": "_6pC5JZHnRVe",
        "outputId": "8cec8515-e11a-4ed0-cfc6-c681379a758e"
      },
      "outputs": [
        {
          "output_type": "stream",
          "name": "stdout",
          "text": [
            "enter the number:1\n",
            "enter the number:1\n",
            "1\n"
          ]
        }
      ],
      "source": [
        "i1=int(input(\"enter the number:\"))\n",
        "i2=int(input(\"enter the number:\"))\n",
        "\n",
        "weights={'w11':0.3,'w12':0.3,'w21':0.2,'w22':0.2,'w31':0.5,'w32':0.5}\n",
        "h1=i1*weights['w11']+i2*weights['w21']\n",
        "h2=i1*weights['w12']+i2*weights['w22']\n",
        "\n",
        "h1_act=relu(h1)\n",
        "h2_act=relu(h2)\n",
        "\n",
        "o1=h1_act*weights['w31']+h2_act*weights['w32']\n",
        "o1_act=tn(o1)\n",
        "\n",
        "\n",
        "print(int(bool(o1_act)))"
      ]
    },
    {
      "cell_type": "code",
      "source": [
        "import pandas as pd\n",
        "def relu(x):\n",
        "  return np.maximum(0,x)\n",
        "def sigmoid(x):\n",
        "  return (1/(1+np.exp(-x)))\n",
        "def softmax(x):\n",
        "  l=[]\n",
        "  for i in h:\n",
        "    l.append(np.exp(i))\n",
        "  return l/sum(l)\n"
      ],
      "metadata": {
        "id": "gGqfSS9_sOta"
      },
      "execution_count": null,
      "outputs": []
    },
    {
      "cell_type": "code",
      "source": [
        "import numpy as np\n",
        "from sklearn.preprocessing import StandardScaler\n",
        "from sklearn.metrics import confusion_matrix\n",
        "\n",
        "df=pd.read_csv('/content/titanic.csv')\n",
        "df.drop(columns=['PassengerId','Pclass','Survived','Parch','SibSp'],inplace=True)\n",
        "df.fillna({'Age':df['Age'].mean(),'Fare':df['Fare'].mean()},inplace=True)\n",
        "df['Embarked']=df['Embarked'].map({'Q':0,'S':1,'C':2})\n",
        "df['Sex']=df['Sex'].map({'male':0,'female':1})\n",
        "\n",
        "features = ['Sex', 'Age', 'Fare']\n",
        "X = df[features].values\n",
        "y = df['Embarked'].values\n",
        "s = StandardScaler()\n",
        "X_scaled = s.fit_transform(X)\n",
        "weights = [[0.59348704, 0.40109883, 0.28617046],[0.82291927, 0.17715662, 0.1684946],[0.34189922, 0.12574664, 0.83438127]]\n",
        "weights_o=[[0.14195772, 0.97765211, 0.83343769],\n",
        " [0.79167686, 0.69152006, 0.64352697],\n",
        " [0.41410903, 0.66399141, 0.50717641]]\n",
        "print(weights_o)\n",
        "h= np.dot(X_scaled, weights)\n",
        "h_act=sigmoid(h)\n",
        "o=np.dot(h,weights_o)\n",
        "o_act=softmax(o)\n",
        "\n",
        "predicted_classes = np.argmax(o_act, axis=1)\n",
        "df['predicted'] = predicted_classes\n",
        "\n",
        "print(df[['Embarked', 'predicted']])\n",
        "print(confusion_matrix(df['predicted'],df['Embarked']))"
      ],
      "metadata": {
        "colab": {
          "base_uri": "https://localhost:8080/"
        },
        "id": "uE_OMEbVvUAi",
        "outputId": "6d09650a-840a-4802-c49b-cb81d246c713"
      },
      "execution_count": null,
      "outputs": [
        {
          "output_type": "stream",
          "name": "stdout",
          "text": [
            "[[0.14195772, 0.97765211, 0.83343769], [0.79167686, 0.69152006, 0.64352697], [0.41410903, 0.66399141, 0.50717641]]\n",
            "     Embarked  predicted\n",
            "0           0          1\n",
            "1           1          0\n",
            "2           0          0\n",
            "3           1          1\n",
            "4           1          1\n",
            "..        ...        ...\n",
            "413         1          1\n",
            "414         2          0\n",
            "415         1          1\n",
            "416         1          1\n",
            "417         2          1\n",
            "\n",
            "[418 rows x 2 columns]\n",
            "[[  2  23  23]\n",
            " [ 44 245  73]\n",
            " [  0   2   6]]\n"
          ]
        }
      ]
    },
    {
      "cell_type": "code",
      "source": [],
      "metadata": {
        "id": "T3ITp7Bv8FUA"
      },
      "execution_count": null,
      "outputs": []
    }
  ]
}