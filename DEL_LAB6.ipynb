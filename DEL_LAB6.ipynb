{
  "nbformat": 4,
  "nbformat_minor": 0,
  "metadata": {
    "colab": {
      "provenance": []
    },
    "kernelspec": {
      "name": "python3",
      "display_name": "Python 3"
    },
    "language_info": {
      "name": "python"
    }
  },
  "cells": [
    {
      "cell_type": "code",
      "execution_count": null,
      "metadata": {
        "id": "sREZ8pUhFV7B"
      },
      "outputs": [],
      "source": [
        "#Implement a program on Adversarial training, tangent distance, tangent prop and tangent classifier. [Any three to be implemented].\n",
        "import numpy as np\n",
        "import tensorflow as tf\n",
        "from tensorflow.keras.datasets import mnist\n",
        "from tensorflow.keras.models import Sequential\n",
        "from tensorflow.keras.layers import Dense, Flatten, Layer\n",
        "import matplotlib.pyplot as plt"
      ]
    },
    {
      "cell_type": "code",
      "source": [
        "#load the mnist dataset\n",
        "(x_train, y_train), (x_test, y_test) = mnist.load_data()"
      ],
      "metadata": {
        "id": "-ACnIPwnHp8p"
      },
      "execution_count": null,
      "outputs": []
    },
    {
      "cell_type": "code",
      "source": [
        "y_train"
      ],
      "metadata": {
        "colab": {
          "base_uri": "https://localhost:8080/"
        },
        "id": "MXF6WhMRH20Y",
        "outputId": "9bc2283d-9f5a-4023-bda9-f93ec72b8a2a"
      },
      "execution_count": null,
      "outputs": [
        {
          "output_type": "execute_result",
          "data": {
            "text/plain": [
              "array([5, 0, 4, ..., 5, 6, 8], dtype=uint8)"
            ]
          },
          "metadata": {},
          "execution_count": 5
        }
      ]
    },
    {
      "cell_type": "code",
      "source": [
        "subset = 1000\n",
        "#Normalize pixel values of the images from the range [0, 255] to [0, 1].\n",
        "x_train = x_train[:subset]/255.0\n",
        "y_train = y_train[:subset]\n",
        "x_test = x_test[:200]/255.0\n",
        "y_test = y_test[:200]"
      ],
      "metadata": {
        "id": "wBaf4KA2H6xu"
      },
      "execution_count": null,
      "outputs": []
    },
    {
      "cell_type": "code",
      "source": [
        "#model for adversarial training\n",
        "def create_model():\n",
        "    model = Sequential([\n",
        "        Flatten(input_shape=(28, 28)),\n",
        "        Dense(128, activation='relu'),\n",
        "        Dense(10, activation='softmax')\n",
        "    ])\n",
        "    model.compile(optimizer='adam',\n",
        "                  loss='sparse_categorical_crossentropy',\n",
        "                  metrics=['accuracy'])\n",
        "    return model"
      ],
      "metadata": {
        "id": "Id7UsFk4H-Kj"
      },
      "execution_count": null,
      "outputs": []
    },
    {
      "cell_type": "code",
      "source": [
        "#Generate adversarial examples\n",
        "def generate_adversarial_examples(model, x, y, epsilon=0.1):\n",
        "    np.random.seed(100)\n",
        "    perturbations=np.sign(np.random.randn(*x.shape))\n",
        "    x_adv=x+epsilon*perturbations\n",
        "    return np.clip(x_adv,0,1)\n"
      ],
      "metadata": {
        "id": "Ia8hD9KkIhbf"
      },
      "execution_count": null,
      "outputs": []
    },
    {
      "cell_type": "code",
      "source": [
        "class tangentprop(Layer):\n",
        "    def call(self,x):\n",
        "        perturbations= tf.random.normal(shape=tf.shape(x), stddev=0.1)\n",
        "        return x+perturbations\n",
        "\n",
        "def tangent_dist(x1,x2):\n",
        "    return np.linalg.norm(x1-x2)\n",
        "\n",
        "#train the model with adversarial training and plot the loss graph\n",
        "model = create_model()\n",
        "x_adv=generate_adversarial_examples(model,x_train,y_train)\n",
        "x_comb=np.concatenate((x_train,x_adv))\n",
        "y_comb=np.concatenate((y_train,y_train))\n",
        "history_adv = model.fit(x_comb, y_comb, epochs=5, validation_data=(x_test, y_test), verbose=0)\n",
        "\n",
        "#apply tanget prop to the model\n",
        "model_tangent = create_model()\n",
        "model_tangent.add(tangentprop())\n",
        "history_tangent = model_tangent.fit(x_train, y_train, epochs=5, validation_data=(x_test, y_test), verbose=0)\n",
        "loss, acc_tangent_prop= model_tangent.evaluate(x_test, y_test,verbose=0)\n",
        "print(f'Tangent prop accuracy: {acc_tangent_prop*100}%')\n"
      ],
      "metadata": {
        "colab": {
          "base_uri": "https://localhost:8080/"
        },
        "id": "ZLwPuOKbJ5RN",
        "outputId": "0f999944-af51-42eb-c534-12f0f32dca17"
      },
      "execution_count": null,
      "outputs": [
        {
          "output_type": "stream",
          "name": "stderr",
          "text": [
            "/usr/local/lib/python3.10/dist-packages/keras/src/layers/reshaping/flatten.py:37: UserWarning: Do not pass an `input_shape`/`input_dim` argument to a layer. When using Sequential models, prefer using an `Input(shape)` object as the first layer in the model instead.\n",
            "  super().__init__(**kwargs)\n"
          ]
        },
        {
          "output_type": "stream",
          "name": "stdout",
          "text": [
            "Tangent prop accuracy: 76.49999856948853%\n"
          ]
        }
      ]
    },
    {
      "cell_type": "code",
      "source": [
        "#tangent dist classifier\n",
        "def classify_with_tangent_dist(x_train, y_train, x_test):\n",
        "    x_train_flat=x_train.reshape(x_train.shape[0],-1)\n",
        "    x_test_flat=x_test.reshape(x_test.shape[0],-1)\n",
        "    y_pred=[]\n",
        "    for x in x_test_flat:\n",
        "        dist=[tangent_dist(x,x_train_flat[i]) for i in range(len(x_train_flat))]\n",
        "        y_pred.append(y_train[np.argmin(dist)])\n",
        "    return np.array(y_pred)"
      ],
      "metadata": {
        "id": "gTQc1YW-M_fy"
      },
      "execution_count": null,
      "outputs": []
    },
    {
      "cell_type": "code",
      "source": [
        "y_pred=classify_with_tangent_dist(x_train,y_train,x_test)\n",
        "acc_tangent_dist=np.mean(y_pred==y_test)\n",
        "print(f'Tangent dist Classifier accuracy: {acc_tangent_dist*100}%')"
      ],
      "metadata": {
        "colab": {
          "base_uri": "https://localhost:8080/"
        },
        "id": "hEoooJbkNg2f",
        "outputId": "1e976e3f-25c1-429d-8cb3-b03d4a6dda0b"
      },
      "execution_count": null,
      "outputs": [
        {
          "output_type": "stream",
          "name": "stdout",
          "text": [
            "Tangent dist Classifier accuracy: 85.0%\n"
          ]
        }
      ]
    },
    {
      "cell_type": "code",
      "source": [
        "#evaluate the adversarially trained model with tangent prop\n",
        "loss, acc_tangent_prop= model_tangent.evaluate(x_test, y_test,verbose=0)\n",
        "print(f'Adversarially trained model with Tangent prop accuracy: {acc_tangent_prop*100}%')"
      ],
      "metadata": {
        "colab": {
          "base_uri": "https://localhost:8080/"
        },
        "id": "k9IL7OGxNq8V",
        "outputId": "54c1c280-99f4-4d8b-b697-c9bfb592e0ac"
      },
      "execution_count": null,
      "outputs": [
        {
          "output_type": "stream",
          "name": "stdout",
          "text": [
            "Adversarially trained model with Tangent prop accuracy: 76.49999856948853%\n"
          ]
        }
      ]
    },
    {
      "cell_type": "code",
      "source": [
        "#plot the loss graph\n",
        "plt.plot(history_adv.history['loss'], label='Adversarially trained model')\n",
        "plt.plot(history_tangent.history['loss'], label='Tangent prop loss')\n",
        "plt.xlabel('Epoch')\n",
        "plt.ylabel('Loss')\n",
        "plt.title(\"training loss\")\n",
        "plt.legend()\n",
        "plt.show()"
      ],
      "metadata": {
        "colab": {
          "base_uri": "https://localhost:8080/",
          "height": 472
        },
        "id": "JmUok2T8N96u",
        "outputId": "5cebc642-431c-4340-cd9b-ba6c21ad5947"
      },
      "execution_count": null,
      "outputs": [
        {
          "output_type": "display_data",
          "data": {
            "text/plain": [
              "<Figure size 640x480 with 1 Axes>"
            ],
            "image/png": "[encoded data removed]"
          },
          "metadata": {}
        }
      ]
    },
    {
      "cell_type": "code",
      "source": [],
      "metadata": {
        "id": "SIWLac5aOGWq"
      },
      "execution_count": null,
      "outputs": []
    }
  ]
}