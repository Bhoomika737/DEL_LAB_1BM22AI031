{
  "nbformat": 4,
  "nbformat_minor": 0,
  "metadata": {
    "colab": {
      "provenance": []
    },
    "kernelspec": {
      "name": "python3",
      "display_name": "Python 3"
    },
    "language_info": {
      "name": "python"
    },
    "widgets": {
      "application/vnd.jupyter.widget-state+json": {
        "dbd34596405949f297db4d17b01fa809": {
          "model_module": "@jupyter-widgets/controls",
          "model_name": "HBoxModel",
          "model_module_version": "1.5.0",
          "state": {
            "_dom_classes": [],
            "_model_module": "@jupyter-widgets/controls",
            "_model_module_version": "1.5.0",
            "_model_name": "HBoxModel",
            "_view_count": null,
            "_view_module": "@jupyter-widgets/controls",
            "_view_module_version": "1.5.0",
            "_view_name": "HBoxView",
            "box_style": "",
            "children": [
              "IPY_MODEL_6529a25a49ff4e1585256b01d0d44f07",
              "IPY_MODEL_70b60dc1fe724d40b623e1f5a855b938",
              "IPY_MODEL_69dca4332b5f4694aa743f5be1d696e3"
            ],
            "layout": "IPY_MODEL_2f2bcefdb2364ff4a4943a591981b843"
          }
        },
        "6529a25a49ff4e1585256b01d0d44f07": {
          "model_module": "@jupyter-widgets/controls",
          "model_name": "HTMLModel",
          "model_module_version": "1.5.0",
          "state": {
            "_dom_classes": [],
            "_model_module": "@jupyter-widgets/controls",
            "_model_module_version": "1.5.0",
            "_model_name": "HTMLModel",
            "_view_count": null,
            "_view_module": "@jupyter-widgets/controls",
            "_view_module_version": "1.5.0",
            "_view_name": "HTMLView",
            "description": "",
            "description_tooltip": null,
            "layout": "IPY_MODEL_4192e783e668401092c4d1be17154b36",
            "placeholder": "​",
            "style": "IPY_MODEL_27afc78c8328498ebc1916463227575c",
            "value": "Dl Completed...: 100%"
          }
        },
        "70b60dc1fe724d40b623e1f5a855b938": {
          "model_module": "@jupyter-widgets/controls",
          "model_name": "FloatProgressModel",
          "model_module_version": "1.5.0",
          "state": {
            "_dom_classes": [],
            "_model_module": "@jupyter-widgets/controls",
            "_model_module_version": "1.5.0",
            "_model_name": "FloatProgressModel",
            "_view_count": null,
            "_view_module": "@jupyter-widgets/controls",
            "_view_module_version": "1.5.0",
            "_view_name": "ProgressView",
            "bar_style": "success",
            "description": "",
            "description_tooltip": null,
            "layout": "IPY_MODEL_28cd8250c4c44af39fb96e50cb24e85b",
            "max": 5,
            "min": 0,
            "orientation": "horizontal",
            "style": "IPY_MODEL_50412327ec1a47db87be45b0b38f736c",
            "value": 5
          }
        },
        "69dca4332b5f4694aa743f5be1d696e3": {
          "model_module": "@jupyter-widgets/controls",
          "model_name": "HTMLModel",
          "model_module_version": "1.5.0",
          "state": {
            "_dom_classes": [],
            "_model_module": "@jupyter-widgets/controls",
            "_model_module_version": "1.5.0",
            "_model_name": "HTMLModel",
            "_view_count": null,
            "_view_module": "@jupyter-widgets/controls",
            "_view_module_version": "1.5.0",
            "_view_name": "HTMLView",
            "description": "",
            "description_tooltip": null,
            "layout": "IPY_MODEL_dc065fd654884f60a5ea0b76822cad44",
            "placeholder": "​",
            "style": "IPY_MODEL_2a2d7eb1c4444cdb99b57b2382411990",
            "value": " 5/5 [00:00&lt;00:00, 16.34 file/s]"
          }
        },
        "2f2bcefdb2364ff4a4943a591981b843": {
          "model_module": "@jupyter-widgets/base",
          "model_name": "LayoutModel",
          "model_module_version": "1.2.0",
          "state": {
            "_model_module": "@jupyter-widgets/base",
            "_model_module_version": "1.2.0",
            "_model_name": "LayoutModel",
            "_view_count": null,
            "_view_module": "@jupyter-widgets/base",
            "_view_module_version": "1.2.0",
            "_view_name": "LayoutView",
            "align_content": null,
            "align_items": null,
            "align_self": null,
            "border": null,
            "bottom": null,
            "display": null,
            "flex": null,
            "flex_flow": null,
            "grid_area": null,
            "grid_auto_columns": null,
            "grid_auto_flow": null,
            "grid_auto_rows": null,
            "grid_column": null,
            "grid_gap": null,
            "grid_row": null,
            "grid_template_areas": null,
            "grid_template_columns": null,
            "grid_template_rows": null,
            "height": null,
            "justify_content": null,
            "justify_items": null,
            "left": null,
            "margin": null,
            "max_height": null,
            "max_width": null,
            "min_height": null,
            "min_width": null,
            "object_fit": null,
            "object_position": null,
            "order": null,
            "overflow": null,
            "overflow_x": null,
            "overflow_y": null,
            "padding": null,
            "right": null,
            "top": null,
            "visibility": null,
            "width": null
          }
        },
        "4192e783e668401092c4d1be17154b36": {
          "model_module": "@jupyter-widgets/base",
          "model_name": "LayoutModel",
          "model_module_version": "1.2.0",
          "state": {
            "_model_module": "@jupyter-widgets/base",
            "_model_module_version": "1.2.0",
            "_model_name": "LayoutModel",
            "_view_count": null,
            "_view_module": "@jupyter-widgets/base",
            "_view_module_version": "1.2.0",
            "_view_name": "LayoutView",
            "align_content": null,
            "align_items": null,
            "align_self": null,
            "border": null,
            "bottom": null,
            "display": null,
            "flex": null,
            "flex_flow": null,
            "grid_area": null,
            "grid_auto_columns": null,
            "grid_auto_flow": null,
            "grid_auto_rows": null,
            "grid_column": null,
            "grid_gap": null,
            "grid_row": null,
            "grid_template_areas": null,
            "grid_template_columns": null,
            "grid_template_rows": null,
            "height": null,
            "justify_content": null,
            "justify_items": null,
            "left": null,
            "margin": null,
            "max_height": null,
            "max_width": null,
            "min_height": null,
            "min_width": null,
            "object_fit": null,
            "object_position": null,
            "order": null,
            "overflow": null,
            "overflow_x": null,
            "overflow_y": null,
            "padding": null,
            "right": null,
            "top": null,
            "visibility": null,
            "width": null
          }
        },
        "27afc78c8328498ebc1916463227575c": {
          "model_module": "@jupyter-widgets/controls",
          "model_name": "DescriptionStyleModel",
          "model_module_version": "1.5.0",
          "state": {
            "_model_module": "@jupyter-widgets/controls",
            "_model_module_version": "1.5.0",
            "_model_name": "DescriptionStyleModel",
            "_view_count": null,
            "_view_module": "@jupyter-widgets/base",
            "_view_module_version": "1.2.0",
            "_view_name": "StyleView",
            "description_width": ""
          }
        },
        "28cd8250c4c44af39fb96e50cb24e85b": {
          "model_module": "@jupyter-widgets/base",
          "model_name": "LayoutModel",
          "model_module_version": "1.2.0",
          "state": {
            "_model_module": "@jupyter-widgets/base",
            "_model_module_version": "1.2.0",
            "_model_name": "LayoutModel",
            "_view_count": null,
            "_view_module": "@jupyter-widgets/base",
            "_view_module_version": "1.2.0",
            "_view_name": "LayoutView",
            "align_content": null,
            "align_items": null,
            "align_self": null,
            "border": null,
            "bottom": null,
            "display": null,
            "flex": null,
            "flex_flow": null,
            "grid_area": null,
            "grid_auto_columns": null,
            "grid_auto_flow": null,
            "grid_auto_rows": null,
            "grid_column": null,
            "grid_gap": null,
            "grid_row": null,
            "grid_template_areas": null,
            "grid_template_columns": null,
            "grid_template_rows": null,
            "height": null,
            "justify_content": null,
            "justify_items": null,
            "left": null,
            "margin": null,
            "max_height": null,
            "max_width": null,
            "min_height": null,
            "min_width": null,
            "object_fit": null,
            "object_position": null,
            "order": null,
            "overflow": null,
            "overflow_x": null,
            "overflow_y": null,
            "padding": null,
            "right": null,
            "top": null,
            "visibility": null,
            "width": null
          }
        },
        "50412327ec1a47db87be45b0b38f736c": {
          "model_module": "@jupyter-widgets/controls",
          "model_name": "ProgressStyleModel",
          "model_module_version": "1.5.0",
          "state": {
            "_model_module": "@jupyter-widgets/controls",
            "_model_module_version": "1.5.0",
            "_model_name": "ProgressStyleModel",
            "_view_count": null,
            "_view_module": "@jupyter-widgets/base",
            "_view_module_version": "1.2.0",
            "_view_name": "StyleView",
            "bar_color": null,
            "description_width": ""
          }
        },
        "dc065fd654884f60a5ea0b76822cad44": {
          "model_module": "@jupyter-widgets/base",
          "model_name": "LayoutModel",
          "model_module_version": "1.2.0",
          "state": {
            "_model_module": "@jupyter-widgets/base",
            "_model_module_version": "1.2.0",
            "_model_name": "LayoutModel",
            "_view_count": null,
            "_view_module": "@jupyter-widgets/base",
            "_view_module_version": "1.2.0",
            "_view_name": "LayoutView",
            "align_content": null,
            "align_items": null,
            "align_self": null,
            "border": null,
            "bottom": null,
            "display": null,
            "flex": null,
            "flex_flow": null,
            "grid_area": null,
            "grid_auto_columns": null,
            "grid_auto_flow": null,
            "grid_auto_rows": null,
            "grid_column": null,
            "grid_gap": null,
            "grid_row": null,
            "grid_template_areas": null,
            "grid_template_columns": null,
            "grid_template_rows": null,
            "height": null,
            "justify_content": null,
            "justify_items": null,
            "left": null,
            "margin": null,
            "max_height": null,
            "max_width": null,
            "min_height": null,
            "min_width": null,
            "object_fit": null,
            "object_position": null,
            "order": null,
            "overflow": null,
            "overflow_x": null,
            "overflow_y": null,
            "padding": null,
            "right": null,
            "top": null,
            "visibility": null,
            "width": null
          }
        },
        "2a2d7eb1c4444cdb99b57b2382411990": {
          "model_module": "@jupyter-widgets/controls",
          "model_name": "DescriptionStyleModel",
          "model_module_version": "1.5.0",
          "state": {
            "_model_module": "@jupyter-widgets/controls",
            "_model_module_version": "1.5.0",
            "_model_name": "DescriptionStyleModel",
            "_view_count": null,
            "_view_module": "@jupyter-widgets/base",
            "_view_module_version": "1.2.0",
            "_view_name": "StyleView",
            "description_width": ""
          }
        }
      }
    }
  },
  "cells": [
    {
      "cell_type": "markdown",
      "source": [
        "DROPOUT\n",
        "\n",
        "\n",
        "---\n",
        "\n"
      ],
      "metadata": {
        "id": "lGsGzLvtakba"
      }
    },
    {
      "cell_type": "code",
      "execution_count": 1,
      "metadata": {
        "id": "FADeTRbJ3qp9"
      },
      "outputs": [],
      "source": [
        "import numpy as np\n",
        "import matplotlib.pyplot as plt\n",
        "import tensorflow as tf\n",
        "from tensorflow.keras.models import Sequential\n",
        "from tensorflow.keras.layers import Dense, Dropout\n",
        "from tensorflow.keras.datasets import mnist\n",
        "from tensorflow.keras.utils import to_categorical\n",
        "from tensorflow.keras.callbacks import EarlyStopping\n",
        "from tensorflow.keras import layers"
      ]
    },
    {
      "cell_type": "code",
      "source": [
        "(X_train, y_train), (X_test, y_test) = mnist.load_data()\n",
        "\n",
        "X_train = X_train.reshape(-1, 28 * 28).astype('float32') / 255\n",
        "X_test = X_test.reshape(-1, 28 * 28).astype('float32') / 255\n",
        "\n",
        "y_train = to_categorical(y_train, 10)\n",
        "y_test = to_categorical(y_test, 10)\n"
      ],
      "metadata": {
        "colab": {
          "base_uri": "https://localhost:8080/"
        },
        "id": "RPMpTjuv9Ex-",
        "outputId": "c95627a9-3300-423b-ad30-a196649108f8"
      },
      "execution_count": 2,
      "outputs": [
        {
          "output_type": "stream",
          "name": "stdout",
          "text": [
            "Downloading data from https://storage.googleapis.com/tensorflow/tf-keras-datasets/mnist.npz\n",
            "\u001b[1m11490434/11490434\u001b[0m \u001b[32m━━━━━━━━━━━━━━━━━━━━\u001b[0m\u001b[37m\u001b[0m \u001b[1m0s\u001b[0m 0us/step\n"
          ]
        }
      ]
    },
    {
      "cell_type": "code",
      "source": [
        "model_without_dropout = Sequential([\n",
        "    Dense(512, activation='relu', input_shape=(784,)),\n",
        "    Dense(512, activation='relu'),\n",
        "    Dense(10, activation='softmax')\n",
        "])\n",
        "\n",
        "model_without_dropout.compile(optimizer='adam', loss='categorical_crossentropy', metrics=['accuracy'])\n"
      ],
      "metadata": {
        "colab": {
          "base_uri": "https://localhost:8080/"
        },
        "id": "yFbbV6sd9I3E",
        "outputId": "b60b8536-b673-4e01-cfde-d12f0b2799da"
      },
      "execution_count": 3,
      "outputs": [
        {
          "output_type": "stream",
          "name": "stderr",
          "text": [
            "/usr/local/lib/python3.10/dist-packages/keras/src/layers/core/dense.py:87: UserWarning: Do not pass an `input_shape`/`input_dim` argument to a layer. When using Sequential models, prefer using an `Input(shape)` object as the first layer in the model instead.\n",
            "  super().__init__(activity_regularizer=activity_regularizer, **kwargs)\n"
          ]
        }
      ]
    },
    {
      "cell_type": "code",
      "source": [
        "history_without_dropout = model_without_dropout.fit(\n",
        "    X_train, y_train, epochs=20, batch_size=128, validation_split=0.2, verbose=2)"
      ],
      "metadata": {
        "colab": {
          "base_uri": "https://localhost:8080/"
        },
        "id": "lhZvJdPz9SG0",
        "outputId": "c5068a8a-d9a1-4858-e3c6-8cc15416ae10"
      },
      "execution_count": 4,
      "outputs": [
        {
          "output_type": "stream",
          "name": "stdout",
          "text": [
            "Epoch 1/20\n",
            "375/375 - 9s - 24ms/step - accuracy: 0.9284 - loss: 0.2434 - val_accuracy: 0.9617 - val_loss: 0.1252\n",
            "Epoch 2/20\n",
            "375/375 - 7s - 19ms/step - accuracy: 0.9730 - loss: 0.0898 - val_accuracy: 0.9710 - val_loss: 0.0949\n",
            "Epoch 3/20\n",
            "375/375 - 7s - 18ms/step - accuracy: 0.9822 - loss: 0.0570 - val_accuracy: 0.9739 - val_loss: 0.0886\n",
            "Epoch 4/20\n",
            "375/375 - 11s - 29ms/step - accuracy: 0.9887 - loss: 0.0369 - val_accuracy: 0.9760 - val_loss: 0.0830\n",
            "Epoch 5/20\n",
            "375/375 - 9s - 25ms/step - accuracy: 0.9906 - loss: 0.0287 - val_accuracy: 0.9775 - val_loss: 0.0817\n",
            "Epoch 6/20\n",
            "375/375 - 10s - 26ms/step - accuracy: 0.9926 - loss: 0.0225 - val_accuracy: 0.9745 - val_loss: 0.0964\n",
            "Epoch 7/20\n",
            "375/375 - 7s - 20ms/step - accuracy: 0.9943 - loss: 0.0173 - val_accuracy: 0.9788 - val_loss: 0.0846\n",
            "Epoch 8/20\n",
            "375/375 - 6s - 16ms/step - accuracy: 0.9949 - loss: 0.0143 - val_accuracy: 0.9759 - val_loss: 0.1073\n",
            "Epoch 9/20\n",
            "375/375 - 7s - 20ms/step - accuracy: 0.9948 - loss: 0.0165 - val_accuracy: 0.9758 - val_loss: 0.1040\n",
            "Epoch 10/20\n",
            "375/375 - 9s - 25ms/step - accuracy: 0.9948 - loss: 0.0143 - val_accuracy: 0.9757 - val_loss: 0.1065\n",
            "Epoch 11/20\n",
            "375/375 - 10s - 25ms/step - accuracy: 0.9946 - loss: 0.0161 - val_accuracy: 0.9762 - val_loss: 0.0997\n",
            "Epoch 12/20\n",
            "375/375 - 10s - 28ms/step - accuracy: 0.9974 - loss: 0.0079 - val_accuracy: 0.9792 - val_loss: 0.1030\n",
            "Epoch 13/20\n",
            "375/375 - 7s - 20ms/step - accuracy: 0.9983 - loss: 0.0053 - val_accuracy: 0.9795 - val_loss: 0.1048\n",
            "Epoch 14/20\n",
            "375/375 - 9s - 23ms/step - accuracy: 0.9973 - loss: 0.0084 - val_accuracy: 0.9726 - val_loss: 0.1497\n",
            "Epoch 15/20\n",
            "375/375 - 10s - 27ms/step - accuracy: 0.9956 - loss: 0.0138 - val_accuracy: 0.9762 - val_loss: 0.1140\n",
            "Epoch 16/20\n",
            "375/375 - 8s - 20ms/step - accuracy: 0.9965 - loss: 0.0106 - val_accuracy: 0.9783 - val_loss: 0.1158\n",
            "Epoch 17/20\n",
            "375/375 - 9s - 23ms/step - accuracy: 0.9976 - loss: 0.0078 - val_accuracy: 0.9779 - val_loss: 0.1156\n",
            "Epoch 18/20\n",
            "375/375 - 10s - 27ms/step - accuracy: 0.9965 - loss: 0.0104 - val_accuracy: 0.9777 - val_loss: 0.1193\n",
            "Epoch 19/20\n",
            "375/375 - 10s - 27ms/step - accuracy: 0.9973 - loss: 0.0081 - val_accuracy: 0.9804 - val_loss: 0.1207\n",
            "Epoch 20/20\n",
            "375/375 - 11s - 30ms/step - accuracy: 0.9983 - loss: 0.0053 - val_accuracy: 0.9755 - val_loss: 0.1430\n"
          ]
        }
      ]
    },
    {
      "cell_type": "code",
      "source": [
        "model_with_dropout = Sequential([\n",
        "    Dense(512, activation='relu', input_shape=(784,)),\n",
        "    Dropout(0.5),\n",
        "    Dense(512, activation='relu'),\n",
        "    Dropout(0.5),\n",
        "    Dense(10, activation='softmax')\n",
        "])\n",
        "\n",
        "model_with_dropout.compile(\n",
        "    optimizer='adam', loss='categorical_crossentropy', metrics=['accuracy'])"
      ],
      "metadata": {
        "id": "yjiGfwt59i1k"
      },
      "execution_count": 5,
      "outputs": []
    },
    {
      "cell_type": "code",
      "source": [
        "history_with_dropout = model_with_dropout.fit(\n",
        "    X_train, y_train, epochs=20, batch_size=128, validation_split=0.2, verbose=2)"
      ],
      "metadata": {
        "colab": {
          "base_uri": "https://localhost:8080/"
        },
        "id": "tdKfJ56JA4P0",
        "outputId": "de79bd0a-577c-4f99-bb4a-deb5a8c0d2a3"
      },
      "execution_count": 6,
      "outputs": [
        {
          "output_type": "stream",
          "name": "stdout",
          "text": [
            "Epoch 1/20\n",
            "375/375 - 9s - 25ms/step - accuracy: 0.8817 - loss: 0.3865 - val_accuracy: 0.9542 - val_loss: 0.1493\n",
            "Epoch 2/20\n",
            "375/375 - 9s - 23ms/step - accuracy: 0.9487 - loss: 0.1725 - val_accuracy: 0.9661 - val_loss: 0.1115\n",
            "Epoch 3/20\n",
            "375/375 - 10s - 27ms/step - accuracy: 0.9570 - loss: 0.1382 - val_accuracy: 0.9712 - val_loss: 0.0933\n",
            "Epoch 4/20\n",
            "375/375 - 11s - 29ms/step - accuracy: 0.9642 - loss: 0.1168 - val_accuracy: 0.9755 - val_loss: 0.0892\n",
            "Epoch 5/20\n",
            "375/375 - 11s - 30ms/step - accuracy: 0.9701 - loss: 0.0974 - val_accuracy: 0.9777 - val_loss: 0.0798\n",
            "Epoch 6/20\n",
            "375/375 - 9s - 25ms/step - accuracy: 0.9715 - loss: 0.0909 - val_accuracy: 0.9765 - val_loss: 0.0808\n",
            "Epoch 7/20\n",
            "375/375 - 10s - 25ms/step - accuracy: 0.9743 - loss: 0.0807 - val_accuracy: 0.9784 - val_loss: 0.0744\n",
            "Epoch 8/20\n",
            "375/375 - 10s - 28ms/step - accuracy: 0.9752 - loss: 0.0776 - val_accuracy: 0.9787 - val_loss: 0.0742\n",
            "Epoch 9/20\n",
            "375/375 - 11s - 30ms/step - accuracy: 0.9780 - loss: 0.0700 - val_accuracy: 0.9791 - val_loss: 0.0774\n",
            "Epoch 10/20\n",
            "375/375 - 7s - 19ms/step - accuracy: 0.9778 - loss: 0.0683 - val_accuracy: 0.9781 - val_loss: 0.0796\n",
            "Epoch 11/20\n",
            "375/375 - 10s - 26ms/step - accuracy: 0.9788 - loss: 0.0672 - val_accuracy: 0.9797 - val_loss: 0.0701\n",
            "Epoch 12/20\n",
            "375/375 - 10s - 27ms/step - accuracy: 0.9815 - loss: 0.0593 - val_accuracy: 0.9796 - val_loss: 0.0769\n",
            "Epoch 13/20\n",
            "375/375 - 11s - 30ms/step - accuracy: 0.9815 - loss: 0.0563 - val_accuracy: 0.9800 - val_loss: 0.0775\n",
            "Epoch 14/20\n",
            "375/375 - 7s - 19ms/step - accuracy: 0.9819 - loss: 0.0555 - val_accuracy: 0.9800 - val_loss: 0.0740\n",
            "Epoch 15/20\n",
            "375/375 - 10s - 25ms/step - accuracy: 0.9836 - loss: 0.0514 - val_accuracy: 0.9813 - val_loss: 0.0728\n",
            "Epoch 16/20\n",
            "375/375 - 10s - 27ms/step - accuracy: 0.9839 - loss: 0.0500 - val_accuracy: 0.9795 - val_loss: 0.0793\n",
            "Epoch 17/20\n",
            "375/375 - 11s - 30ms/step - accuracy: 0.9835 - loss: 0.0511 - val_accuracy: 0.9791 - val_loss: 0.0798\n",
            "Epoch 18/20\n",
            "375/375 - 7s - 19ms/step - accuracy: 0.9851 - loss: 0.0459 - val_accuracy: 0.9813 - val_loss: 0.0779\n",
            "Epoch 19/20\n",
            "375/375 - 7s - 19ms/step - accuracy: 0.9843 - loss: 0.0473 - val_accuracy: 0.9810 - val_loss: 0.0779\n",
            "Epoch 20/20\n",
            "375/375 - 10s - 25ms/step - accuracy: 0.9851 - loss: 0.0468 - val_accuracy: 0.9809 - val_loss: 0.0756\n"
          ]
        }
      ]
    },
    {
      "cell_type": "code",
      "source": [
        "plt.figure(figsize=(14, 6))\n",
        "\n",
        "plt.subplot(1, 2, 1)\n",
        "plt.plot(history_without_dropout.history['accuracy'], label='Train')\n",
        "plt.plot(history_without_dropout.history['val_accuracy'], label='Validation')\n",
        "plt.title('Model accuracy without Dropout')\n",
        "plt.xlabel('Epoch')\n",
        "plt.ylabel('Accuracy')\n",
        "plt.legend()\n",
        "\n",
        "plt.subplot(1, 2, 2)\n",
        "plt.plot(history_with_dropout.history['accuracy'], label='Train')\n",
        "plt.plot(history_with_dropout.history['val_accuracy'], label='Validation')\n",
        "plt.title('Model accuracy with Dropout')\n",
        "plt.xlabel('Epoch')\n",
        "plt.ylabel('Accuracy')\n",
        "plt.legend()\n",
        "\n",
        "plt.show()"
      ],
      "metadata": {
        "colab": {
          "base_uri": "https://localhost:8080/",
          "height": 564
        },
        "id": "R51tH9UuA9LD",
        "outputId": "727b463a-bf97-4b83-99eb-0b6b11524aaa"
      },
      "execution_count": 7,
      "outputs": [
        {
          "output_type": "display_data",
          "data": {
            "text/plain": [
              "<Figure size 1400x600 with 2 Axes>"
            ],
            "image/png": "[encoded data removed]"
          },
          "metadata": {}
        }
      ]
    },
    {
      "cell_type": "markdown",
      "source": [
        "EARLY STOPPING"
      ],
      "metadata": {
        "id": "q9tWbnQMapGm"
      }
    },
    {
      "cell_type": "code",
      "source": [
        "import matplotlib.pyplot as plt\n",
        "import numpy as np\n",
        "import tensorflow as tf\n",
        "from sklearn import datasets\n",
        "import tensorflow_datasets as tfds"
      ],
      "metadata": {
        "id": "HoymM4ecUhTy"
      },
      "execution_count": 13,
      "outputs": []
    },
    {
      "cell_type": "code",
      "source": [
        "ds = tfds.load('mnist', split='train')"
      ],
      "metadata": {
        "colab": {
          "base_uri": "https://localhost:8080/",
          "height": 84,
          "referenced_widgets": [
            "dbd34596405949f297db4d17b01fa809",
            "6529a25a49ff4e1585256b01d0d44f07",
            "70b60dc1fe724d40b623e1f5a855b938",
            "69dca4332b5f4694aa743f5be1d696e3",
            "2f2bcefdb2364ff4a4943a591981b843",
            "4192e783e668401092c4d1be17154b36",
            "27afc78c8328498ebc1916463227575c",
            "28cd8250c4c44af39fb96e50cb24e85b",
            "50412327ec1a47db87be45b0b38f736c",
            "dc065fd654884f60a5ea0b76822cad44",
            "2a2d7eb1c4444cdb99b57b2382411990"
          ]
        },
        "id": "LHCXqaJPW4FA",
        "outputId": "e8fb41b5-5543-48ab-9844-f62b86771a8b"
      },
      "execution_count": 14,
      "outputs": [
        {
          "output_type": "stream",
          "name": "stdout",
          "text": [
            "Downloading and preparing dataset 11.06 MiB (download: 11.06 MiB, generated: 21.00 MiB, total: 32.06 MiB) to /root/tensorflow_datasets/mnist/3.0.1...\n"
          ]
        },
        {
          "output_type": "display_data",
          "data": {
            "text/plain": [
              "Dl Completed...:   0%|          | 0/5 [00:00<?, ? file/s]"
            ],
            "application/vnd.jupyter.widget-view+json": {
              "version_major": 2,
              "version_minor": 0,
              "model_id": "dbd34596405949f297db4d17b01fa809"
            }
          },
          "metadata": {}
        },
        {
          "output_type": "stream",
          "name": "stdout",
          "text": [
            "Dataset mnist downloaded and prepared to /root/tensorflow_datasets/mnist/3.0.1. Subsequent calls will reuse this data.\n"
          ]
        }
      ]
    },
    {
      "cell_type": "code",
      "source": [
        "def preprocess(element):\n",
        "    image = element['image']\n",
        "    label = element['label']\n",
        "    image = tf.cast(image, tf.float32) / 255.0\n",
        "    return image, label\n",
        "\n",
        "ds = ds.map(preprocess).shuffle(10000).batch(32)\n",
        "\n",
        "train_size = int(0.8 * len(list(ds)))\n",
        "train_ds = ds.take(train_size)\n",
        "val_ds = ds.skip(train_size)"
      ],
      "metadata": {
        "id": "w2PeF-lXW8LU"
      },
      "execution_count": 15,
      "outputs": []
    },
    {
      "cell_type": "code",
      "source": [
        "model = tf.keras.Sequential([\n",
        "    tf.keras.layers.Flatten(input_shape=(28, 28)),\n",
        "    tf.keras.layers.Dense(128, activation='relu'),\n",
        "    tf.keras.layers.Dense(10, activation='softmax')\n",
        "])"
      ],
      "metadata": {
        "colab": {
          "base_uri": "https://localhost:8080/"
        },
        "id": "reb6ownXW-na",
        "outputId": "d0ef013e-0c08-453e-e5ff-07982e2a3ef4"
      },
      "execution_count": 16,
      "outputs": [
        {
          "output_type": "stream",
          "name": "stderr",
          "text": [
            "/usr/local/lib/python3.10/dist-packages/keras/src/layers/reshaping/flatten.py:37: UserWarning: Do not pass an `input_shape`/`input_dim` argument to a layer. When using Sequential models, prefer using an `Input(shape)` object as the first layer in the model instead.\n",
            "  super().__init__(**kwargs)\n"
          ]
        }
      ]
    },
    {
      "cell_type": "code",
      "source": [
        "model.compile(optimizer='adam',\n",
        "              loss='sparse_categorical_crossentropy',\n",
        "              metrics=['accuracy'])"
      ],
      "metadata": {
        "id": "7flJDh9XXA-p"
      },
      "execution_count": 17,
      "outputs": []
    },
    {
      "cell_type": "code",
      "source": [
        "early_stopping = tf.keras.callbacks.EarlyStopping(\n",
        "    monitor='val_loss',\n",
        "    patience=3,\n",
        "    restore_best_weights=True\n",
        ")"
      ],
      "metadata": {
        "id": "Cy-xJFzdXDLE"
      },
      "execution_count": 18,
      "outputs": []
    },
    {
      "cell_type": "code",
      "source": [
        "model.fit(train_ds,\n",
        "          validation_data=val_ds,\n",
        "          epochs=20,\n",
        "          callbacks=[early_stopping])"
      ],
      "metadata": {
        "colab": {
          "base_uri": "https://localhost:8080/"
        },
        "id": "0Uv8Pq3vXF4n",
        "outputId": "89e7b9ef-28ff-46fb-d332-cb6b0143ef6a"
      },
      "execution_count": 19,
      "outputs": [
        {
          "output_type": "stream",
          "name": "stdout",
          "text": [
            "Epoch 1/20\n",
            "\u001b[1m1500/1500\u001b[0m \u001b[32m━━━━━━━━━━━━━━━━━━━━\u001b[0m\u001b[37m\u001b[0m \u001b[1m18s\u001b[0m 11ms/step - accuracy: 0.8690 - loss: 0.4641 - val_accuracy: 0.9571 - val_loss: 0.1489\n",
            "Epoch 2/20\n",
            "\u001b[1m1500/1500\u001b[0m \u001b[32m━━━━━━━━━━━━━━━━━━━━\u001b[0m\u001b[37m\u001b[0m \u001b[1m16s\u001b[0m 8ms/step - accuracy: 0.9575 - loss: 0.1414 - val_accuracy: 0.9702 - val_loss: 0.1066\n",
            "Epoch 3/20\n",
            "\u001b[1m1500/1500\u001b[0m \u001b[32m━━━━━━━━━━━━━━━━━━━━\u001b[0m\u001b[37m\u001b[0m \u001b[1m14s\u001b[0m 9ms/step - accuracy: 0.9722 - loss: 0.0911 - val_accuracy: 0.9793 - val_loss: 0.0766\n",
            "Epoch 4/20\n",
            "\u001b[1m1500/1500\u001b[0m \u001b[32m━━━━━━━━━━━━━━━━━━━━\u001b[0m\u001b[37m\u001b[0m \u001b[1m20s\u001b[0m 8ms/step - accuracy: 0.9797 - loss: 0.0682 - val_accuracy: 0.9817 - val_loss: 0.0643\n",
            "Epoch 5/20\n",
            "\u001b[1m1500/1500\u001b[0m \u001b[32m━━━━━━━━━━━━━━━━━━━━\u001b[0m\u001b[37m\u001b[0m \u001b[1m13s\u001b[0m 9ms/step - accuracy: 0.9842 - loss: 0.0530 - val_accuracy: 0.9762 - val_loss: 0.0814\n",
            "Epoch 6/20\n",
            "\u001b[1m1500/1500\u001b[0m \u001b[32m━━━━━━━━━━━━━━━━━━━━\u001b[0m\u001b[37m\u001b[0m \u001b[1m23s\u001b[0m 10ms/step - accuracy: 0.9882 - loss: 0.0397 - val_accuracy: 0.9848 - val_loss: 0.0564\n",
            "Epoch 7/20\n",
            "\u001b[1m1500/1500\u001b[0m \u001b[32m━━━━━━━━━━━━━━━━━━━━\u001b[0m\u001b[37m\u001b[0m \u001b[1m17s\u001b[0m 8ms/step - accuracy: 0.9903 - loss: 0.0325 - val_accuracy: 0.9866 - val_loss: 0.0489\n",
            "Epoch 8/20\n",
            "\u001b[1m1500/1500\u001b[0m \u001b[32m━━━━━━━━━━━━━━━━━━━━\u001b[0m\u001b[37m\u001b[0m \u001b[1m12s\u001b[0m 8ms/step - accuracy: 0.9922 - loss: 0.0264 - val_accuracy: 0.9865 - val_loss: 0.0477\n",
            "Epoch 9/20\n",
            "\u001b[1m1500/1500\u001b[0m \u001b[32m━━━━━━━━━━━━━━━━━━━━\u001b[0m\u001b[37m\u001b[0m \u001b[1m12s\u001b[0m 8ms/step - accuracy: 0.9934 - loss: 0.0216 - val_accuracy: 0.9869 - val_loss: 0.0482\n",
            "Epoch 10/20\n",
            "\u001b[1m1500/1500\u001b[0m \u001b[32m━━━━━━━━━━━━━━━━━━━━\u001b[0m\u001b[37m\u001b[0m \u001b[1m13s\u001b[0m 8ms/step - accuracy: 0.9948 - loss: 0.0179 - val_accuracy: 0.9866 - val_loss: 0.0485\n",
            "Epoch 11/20\n",
            "\u001b[1m1500/1500\u001b[0m \u001b[32m━━━━━━━━━━━━━━━━━━━━\u001b[0m\u001b[37m\u001b[0m \u001b[1m12s\u001b[0m 8ms/step - accuracy: 0.9958 - loss: 0.0144 - val_accuracy: 0.9904 - val_loss: 0.0372\n",
            "Epoch 12/20\n",
            "\u001b[1m1500/1500\u001b[0m \u001b[32m━━━━━━━━━━━━━━━━━━━━\u001b[0m\u001b[37m\u001b[0m \u001b[1m21s\u001b[0m 8ms/step - accuracy: 0.9965 - loss: 0.0128 - val_accuracy: 0.9912 - val_loss: 0.0343\n",
            "Epoch 13/20\n",
            "\u001b[1m1500/1500\u001b[0m \u001b[32m━━━━━━━━━━━━━━━━━━━━\u001b[0m\u001b[37m\u001b[0m \u001b[1m20s\u001b[0m 8ms/step - accuracy: 0.9966 - loss: 0.0118 - val_accuracy: 0.9907 - val_loss: 0.0369\n",
            "Epoch 14/20\n",
            "\u001b[1m1500/1500\u001b[0m \u001b[32m━━━━━━━━━━━━━━━━━━━━\u001b[0m\u001b[37m\u001b[0m \u001b[1m13s\u001b[0m 8ms/step - accuracy: 0.9972 - loss: 0.0101 - val_accuracy: 0.9901 - val_loss: 0.0384\n",
            "Epoch 15/20\n",
            "\u001b[1m1500/1500\u001b[0m \u001b[32m━━━━━━━━━━━━━━━━━━━━\u001b[0m\u001b[37m\u001b[0m \u001b[1m13s\u001b[0m 8ms/step - accuracy: 0.9973 - loss: 0.0084 - val_accuracy: 0.9861 - val_loss: 0.0496\n"
          ]
        },
        {
          "output_type": "execute_result",
          "data": {
            "text/plain": [
              "<keras.src.callbacks.history.History at 0x7915eb915f30>"
            ]
          },
          "metadata": {},
          "execution_count": 19
        }
      ]
    },
    {
      "cell_type": "markdown",
      "source": [
        "MULTI TASKING"
      ],
      "metadata": {
        "id": "BMRddAUsavaz"
      }
    },
    {
      "cell_type": "code",
      "source": [
        "import tensorflow as tf\n",
        "from tensorflow.keras import layers, models\n",
        "from tensorflow.keras.datasets import mnist\n",
        "from tensorflow.keras.callbacks import EarlyStopping\n",
        "\n",
        "(x_train, y_train), (x_test, y_test) = tf.keras.datasets.mnist.load_data()\n",
        "\n",
        "x_train, x_test = x_train / 255.0, x_test / 255.0\n",
        "\n",
        "y_train_parity = y_train % 2\n",
        "y_test_parity = y_test % 2\n",
        "\n",
        "y_train_digits = tf.keras.utils.to_categorical(y_train, 10)\n",
        "y_test_digits = tf.keras.utils.to_categorical(y_test, 10)\n",
        "\n",
        "input_layer = layers.Input(shape=(28, 28))\n",
        "\n",
        "x = layers.Flatten()(input_layer)\n",
        "x = layers.Dense(128, activation='relu')(x)\n",
        "\n",
        "digit_output = layers.Dense(10, activation='softmax', name='digit')(x)\n",
        "\n",
        "parity_output = layers.Dense(1, activation='sigmoid', name='parity')(x)\n",
        "\n",
        "model = models.Model(inputs=input_layer, outputs={'digit': digit_output, 'parity': parity_output})\n",
        "\n",
        "model.compile(optimizer='adam',\n",
        "              loss={'digit': 'categorical_crossentropy', 'parity': 'binary_crossentropy'},\n",
        "              metrics={'digit': 'accuracy', 'parity': 'accuracy'})\n",
        "\n",
        "early_stopping = EarlyStopping(monitor='val_loss', patience=3, restore_best_weights=True)\n",
        "\n",
        "model.fit(\n",
        "    x_train,\n",
        "    {'digit': y_train_digits, 'parity': y_train_parity},\n",
        "    validation_data=(x_test, {'digit': y_test_digits, 'parity': y_test_parity}),\n",
        "    epochs=20,\n",
        "    callbacks=[early_stopping]\n",
        ")\n"
      ],
      "metadata": {
        "colab": {
          "base_uri": "https://localhost:8080/"
        },
        "id": "qctnEVgrXHim",
        "outputId": "4b1ed3b6-f936-4932-f200-385788d62fdb"
      },
      "execution_count": 21,
      "outputs": [
        {
          "output_type": "stream",
          "name": "stdout",
          "text": [
            "Epoch 1/20\n",
            "\u001b[1m1875/1875\u001b[0m \u001b[32m━━━━━━━━━━━━━━━━━━━━\u001b[0m\u001b[37m\u001b[0m \u001b[1m15s\u001b[0m 7ms/step - digit_accuracy: 0.8701 - digit_loss: 0.4511 - loss: 0.6715 - parity_accuracy: 0.9090 - parity_loss: 0.2204 - val_digit_accuracy: 0.9584 - val_digit_loss: 0.1387 - val_loss: 0.2120 - val_parity_accuracy: 0.9750 - val_parity_loss: 0.0732\n",
            "Epoch 2/20\n",
            "\u001b[1m1875/1875\u001b[0m \u001b[32m━━━━━━━━━━━━━━━━━━━━\u001b[0m\u001b[37m\u001b[0m \u001b[1m21s\u001b[0m 7ms/step - digit_accuracy: 0.9634 - digit_loss: 0.1221 - loss: 0.1891 - parity_accuracy: 0.9765 - parity_loss: 0.0670 - val_digit_accuracy: 0.9682 - val_digit_loss: 0.1042 - val_loss: 0.1564 - val_parity_accuracy: 0.9825 - val_parity_loss: 0.0520\n",
            "Epoch 3/20\n",
            "\u001b[1m1875/1875\u001b[0m \u001b[32m━━━━━━━━━━━━━━━━━━━━\u001b[0m\u001b[37m\u001b[0m \u001b[1m16s\u001b[0m 5ms/step - digit_accuracy: 0.9763 - digit_loss: 0.0799 - loss: 0.1292 - parity_accuracy: 0.9833 - parity_loss: 0.0493 - val_digit_accuracy: 0.9686 - val_digit_loss: 0.0976 - val_loss: 0.1493 - val_parity_accuracy: 0.9813 - val_parity_loss: 0.0515\n",
            "Epoch 4/20\n",
            "\u001b[1m1875/1875\u001b[0m \u001b[32m━━━━━━━━━━━━━━━━━━━━\u001b[0m\u001b[37m\u001b[0m \u001b[1m10s\u001b[0m 6ms/step - digit_accuracy: 0.9823 - digit_loss: 0.0612 - loss: 0.0996 - parity_accuracy: 0.9873 - parity_loss: 0.0384 - val_digit_accuracy: 0.9748 - val_digit_loss: 0.0802 - val_loss: 0.1271 - val_parity_accuracy: 0.9844 - val_parity_loss: 0.0468\n",
            "Epoch 5/20\n",
            "\u001b[1m1875/1875\u001b[0m \u001b[32m━━━━━━━━━━━━━━━━━━━━\u001b[0m\u001b[37m\u001b[0m \u001b[1m21s\u001b[0m 6ms/step - digit_accuracy: 0.9862 - digit_loss: 0.0440 - loss: 0.0754 - parity_accuracy: 0.9887 - parity_loss: 0.0314 - val_digit_accuracy: 0.9751 - val_digit_loss: 0.0850 - val_loss: 0.1352 - val_parity_accuracy: 0.9837 - val_parity_loss: 0.0500\n",
            "Epoch 6/20\n",
            "\u001b[1m1875/1875\u001b[0m \u001b[32m━━━━━━━━━━━━━━━━━━━━\u001b[0m\u001b[37m\u001b[0m \u001b[1m20s\u001b[0m 6ms/step - digit_accuracy: 0.9902 - digit_loss: 0.0328 - loss: 0.0603 - parity_accuracy: 0.9902 - parity_loss: 0.0275 - val_digit_accuracy: 0.9755 - val_digit_loss: 0.0832 - val_loss: 0.1365 - val_parity_accuracy: 0.9835 - val_parity_loss: 0.0531\n",
            "Epoch 7/20\n",
            "\u001b[1m1875/1875\u001b[0m \u001b[32m━━━━━━━━━━━━━━━━━━━━\u001b[0m\u001b[37m\u001b[0m \u001b[1m19s\u001b[0m 5ms/step - digit_accuracy: 0.9917 - digit_loss: 0.0278 - loss: 0.0509 - parity_accuracy: 0.9920 - parity_loss: 0.0232 - val_digit_accuracy: 0.9778 - val_digit_loss: 0.0773 - val_loss: 0.1193 - val_parity_accuracy: 0.9871 - val_parity_loss: 0.0417\n",
            "Epoch 8/20\n",
            "\u001b[1m1875/1875\u001b[0m \u001b[32m━━━━━━━━━━━━━━━━━━━━\u001b[0m\u001b[37m\u001b[0m \u001b[1m10s\u001b[0m 5ms/step - digit_accuracy: 0.9938 - digit_loss: 0.0218 - loss: 0.0401 - parity_accuracy: 0.9944 - parity_loss: 0.0183 - val_digit_accuracy: 0.9768 - val_digit_loss: 0.0853 - val_loss: 0.1319 - val_parity_accuracy: 0.9856 - val_parity_loss: 0.0465\n",
            "Epoch 9/20\n",
            "\u001b[1m1875/1875\u001b[0m \u001b[32m━━━━━━━━━━━━━━━━━━━━\u001b[0m\u001b[37m\u001b[0m \u001b[1m10s\u001b[0m 5ms/step - digit_accuracy: 0.9949 - digit_loss: 0.0179 - loss: 0.0336 - parity_accuracy: 0.9950 - parity_loss: 0.0157 - val_digit_accuracy: 0.9781 - val_digit_loss: 0.0791 - val_loss: 0.1293 - val_parity_accuracy: 0.9844 - val_parity_loss: 0.0500\n",
            "Epoch 10/20\n",
            "\u001b[1m1875/1875\u001b[0m \u001b[32m━━━━━━━━━━━━━━━━━━━━\u001b[0m\u001b[37m\u001b[0m \u001b[1m10s\u001b[0m 5ms/step - digit_accuracy: 0.9955 - digit_loss: 0.0154 - loss: 0.0291 - parity_accuracy: 0.9957 - parity_loss: 0.0137 - val_digit_accuracy: 0.9801 - val_digit_loss: 0.0801 - val_loss: 0.1228 - val_parity_accuracy: 0.9880 - val_parity_loss: 0.0426\n"
          ]
        },
        {
          "output_type": "execute_result",
          "data": {
            "text/plain": [
              "<keras.src.callbacks.history.History at 0x7915eb7a9c30>"
            ]
          },
          "metadata": {},
          "execution_count": 21
        }
      ]
    },
    {
      "cell_type": "markdown",
      "source": [
        "GRADIENT CLIPPING"
      ],
      "metadata": {
        "id": "d2diVbuRayAP"
      }
    },
    {
      "cell_type": "code",
      "source": [
        "model = models.Model(inputs=input_layer, outputs=digit_output)\n",
        "\n",
        "optimizer_with_clipping = tf.keras.optimizers.Adam(clipvalue=1.0)\n",
        "model.compile(optimizer=optimizer_with_clipping,\n",
        "              loss='sparse_categorical_crossentropy',\n",
        "              metrics=['accuracy'])\n",
        "\n",
        "model.fit(\n",
        "    x_train,\n",
        "    y_train,\n",
        "    validation_data=(x_test, y_test),\n",
        "    epochs=20\n",
        ")"
      ],
      "metadata": {
        "colab": {
          "base_uri": "https://localhost:8080/"
        },
        "id": "USlTfA1aYono",
        "outputId": "9cb0c7c1-ff77-4c05-d72b-791626f5442c"
      },
      "execution_count": 22,
      "outputs": [
        {
          "output_type": "stream",
          "name": "stdout",
          "text": [
            "Epoch 1/20\n",
            "\u001b[1m1875/1875\u001b[0m \u001b[32m━━━━━━━━━━━━━━━━━━━━\u001b[0m\u001b[37m\u001b[0m \u001b[1m9s\u001b[0m 4ms/step - accuracy: 0.9923 - loss: 0.0250 - val_accuracy: 0.9763 - val_loss: 0.0878\n",
            "Epoch 2/20\n",
            "\u001b[1m1875/1875\u001b[0m \u001b[32m━━━━━━━━━━━━━━━━━━━━\u001b[0m\u001b[37m\u001b[0m \u001b[1m11s\u001b[0m 6ms/step - accuracy: 0.9944 - loss: 0.0195 - val_accuracy: 0.9798 - val_loss: 0.0786\n",
            "Epoch 3/20\n",
            "\u001b[1m1875/1875\u001b[0m \u001b[32m━━━━━━━━━━━━━━━━━━━━\u001b[0m\u001b[37m\u001b[0m \u001b[1m12s\u001b[0m 7ms/step - accuracy: 0.9962 - loss: 0.0135 - val_accuracy: 0.9779 - val_loss: 0.0850\n",
            "Epoch 4/20\n",
            "\u001b[1m1875/1875\u001b[0m \u001b[32m━━━━━━━━━━━━━━━━━━━━\u001b[0m\u001b[37m\u001b[0m \u001b[1m17s\u001b[0m 5ms/step - accuracy: 0.9967 - loss: 0.0114 - val_accuracy: 0.9780 - val_loss: 0.0870\n",
            "Epoch 5/20\n",
            "\u001b[1m1875/1875\u001b[0m \u001b[32m━━━━━━━━━━━━━━━━━━━━\u001b[0m\u001b[37m\u001b[0m \u001b[1m12s\u001b[0m 5ms/step - accuracy: 0.9966 - loss: 0.0108 - val_accuracy: 0.9755 - val_loss: 0.0997\n",
            "Epoch 6/20\n",
            "\u001b[1m1875/1875\u001b[0m \u001b[32m━━━━━━━━━━━━━━━━━━━━\u001b[0m\u001b[37m\u001b[0m \u001b[1m11s\u001b[0m 5ms/step - accuracy: 0.9974 - loss: 0.0092 - val_accuracy: 0.9746 - val_loss: 0.1115\n",
            "Epoch 7/20\n",
            "\u001b[1m1875/1875\u001b[0m \u001b[32m━━━━━━━━━━━━━━━━━━━━\u001b[0m\u001b[37m\u001b[0m \u001b[1m19s\u001b[0m 5ms/step - accuracy: 0.9973 - loss: 0.0086 - val_accuracy: 0.9781 - val_loss: 0.0945\n",
            "Epoch 8/20\n",
            "\u001b[1m1875/1875\u001b[0m \u001b[32m━━━━━━━━━━━━━━━━━━━━\u001b[0m\u001b[37m\u001b[0m \u001b[1m11s\u001b[0m 5ms/step - accuracy: 0.9986 - loss: 0.0057 - val_accuracy: 0.9762 - val_loss: 0.1133\n",
            "Epoch 9/20\n",
            "\u001b[1m1875/1875\u001b[0m \u001b[32m━━━━━━━━━━━━━━━━━━━━\u001b[0m\u001b[37m\u001b[0m \u001b[1m7s\u001b[0m 4ms/step - accuracy: 0.9975 - loss: 0.0079 - val_accuracy: 0.9752 - val_loss: 0.1080\n",
            "Epoch 10/20\n",
            "\u001b[1m1875/1875\u001b[0m \u001b[32m━━━━━━━━━━━━━━━━━━━━\u001b[0m\u001b[37m\u001b[0m \u001b[1m9s\u001b[0m 5ms/step - accuracy: 0.9986 - loss: 0.0056 - val_accuracy: 0.9776 - val_loss: 0.1084\n",
            "Epoch 11/20\n",
            "\u001b[1m1875/1875\u001b[0m \u001b[32m━━━━━━━━━━━━━━━━━━━━\u001b[0m\u001b[37m\u001b[0m \u001b[1m9s\u001b[0m 5ms/step - accuracy: 0.9984 - loss: 0.0054 - val_accuracy: 0.9779 - val_loss: 0.1117\n",
            "Epoch 12/20\n",
            "\u001b[1m1875/1875\u001b[0m \u001b[32m━━━━━━━━━━━━━━━━━━━━\u001b[0m\u001b[37m\u001b[0m \u001b[1m9s\u001b[0m 4ms/step - accuracy: 0.9985 - loss: 0.0046 - val_accuracy: 0.9759 - val_loss: 0.1213\n",
            "Epoch 13/20\n",
            "\u001b[1m1875/1875\u001b[0m \u001b[32m━━━━━━━━━━━━━━━━━━━━\u001b[0m\u001b[37m\u001b[0m \u001b[1m10s\u001b[0m 4ms/step - accuracy: 0.9970 - loss: 0.0090 - val_accuracy: 0.9763 - val_loss: 0.1199\n",
            "Epoch 14/20\n",
            "\u001b[1m1875/1875\u001b[0m \u001b[32m━━━━━━━━━━━━━━━━━━━━\u001b[0m\u001b[37m\u001b[0m \u001b[1m10s\u001b[0m 5ms/step - accuracy: 0.9990 - loss: 0.0037 - val_accuracy: 0.9796 - val_loss: 0.1079\n",
            "Epoch 15/20\n",
            "\u001b[1m1875/1875\u001b[0m \u001b[32m━━━━━━━━━━━━━━━━━━━━\u001b[0m\u001b[37m\u001b[0m \u001b[1m10s\u001b[0m 5ms/step - accuracy: 0.9985 - loss: 0.0050 - val_accuracy: 0.9768 - val_loss: 0.1258\n",
            "Epoch 16/20\n",
            "\u001b[1m1875/1875\u001b[0m \u001b[32m━━━━━━━━━━━━━━━━━━━━\u001b[0m\u001b[37m\u001b[0m \u001b[1m8s\u001b[0m 4ms/step - accuracy: 0.9992 - loss: 0.0028 - val_accuracy: 0.9766 - val_loss: 0.1221\n",
            "Epoch 17/20\n",
            "\u001b[1m1875/1875\u001b[0m \u001b[32m━━━━━━━━━━━━━━━━━━━━\u001b[0m\u001b[37m\u001b[0m \u001b[1m12s\u001b[0m 5ms/step - accuracy: 0.9983 - loss: 0.0049 - val_accuracy: 0.9783 - val_loss: 0.1203\n",
            "Epoch 18/20\n",
            "\u001b[1m1875/1875\u001b[0m \u001b[32m━━━━━━━━━━━━━━━━━━━━\u001b[0m\u001b[37m\u001b[0m \u001b[1m14s\u001b[0m 7ms/step - accuracy: 0.9987 - loss: 0.0039 - val_accuracy: 0.9793 - val_loss: 0.1222\n",
            "Epoch 19/20\n",
            "\u001b[1m1875/1875\u001b[0m \u001b[32m━━━━━━━━━━━━━━━━━━━━\u001b[0m\u001b[37m\u001b[0m \u001b[1m16s\u001b[0m 5ms/step - accuracy: 0.9983 - loss: 0.0051 - val_accuracy: 0.9759 - val_loss: 0.1314\n",
            "Epoch 20/20\n",
            "\u001b[1m1875/1875\u001b[0m \u001b[32m━━━━━━━━━━━━━━━━━━━━\u001b[0m\u001b[37m\u001b[0m \u001b[1m11s\u001b[0m 5ms/step - accuracy: 0.9998 - loss: 0.0011 - val_accuracy: 0.9750 - val_loss: 0.1480\n"
          ]
        },
        {
          "output_type": "execute_result",
          "data": {
            "text/plain": [
              "<keras.src.callbacks.history.History at 0x7915eb7ab640>"
            ]
          },
          "metadata": {},
          "execution_count": 22
        }
      ]
    },
    {
      "cell_type": "code",
      "source": [],
      "metadata": {
        "id": "LW1GnIsUafbd"
      },
      "execution_count": null,
      "outputs": []
    }
  ]
}