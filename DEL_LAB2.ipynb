{
  "nbformat": 4,
  "nbformat_minor": 0,
  "metadata": {
    "colab": {
      "provenance": []
    },
    "kernelspec": {
      "name": "python3",
      "display_name": "Python 3"
    },
    "language_info": {
      "name": "python"
    }
  },
  "cells": [
    {
      "cell_type": "code",
      "execution_count": 1,
      "metadata": {
        "id": "tYtDnWIh1JZJ"
      },
      "outputs": [],
      "source": [
        "import numpy as np\n",
        "import matplotlib.pyplot as plt"
      ]
    },
    {
      "cell_type": "code",
      "source": [
        "def sigmoid(x):\n",
        "  return 1/1+(np.exp(-x))\n",
        "\n",
        "def tn(x):\n",
        "  return np.tanh(x)\n",
        "\n",
        "def relu(x):\n",
        "  return max(0,x)\n",
        "\n",
        "def leaky_relu(x):\n",
        "  return max(0.01*x,x)\n",
        "\n",
        "def step_func(x):\n",
        "  if x<0:\n",
        "    return 0\n",
        "  elif x>0:\n",
        "    return 1"
      ],
      "metadata": {
        "id": "EiwQWyNx1S0z"
      },
      "execution_count": 8,
      "outputs": []
    },
    {
      "cell_type": "code",
      "source": [
        "for i in range(4):\n",
        "  a=int(input(\"enter the number :\"))\n",
        "  b=int(input(\"enter the number :\"))\n",
        "  w=np.matrix([[0.5,-0.5]])\n",
        "  i=np.matrix([[a,b]])\n",
        "  h=(w*i.T)[0,0]\n",
        "  t=sigmoid(h)\n",
        "  print(int(bool(t)))"
      ],
      "metadata": {
        "colab": {
          "base_uri": "https://localhost:8080/"
        },
        "id": "_vcjpYHa1UbP",
        "outputId": "9563ec16-900d-48f6-aaf0-a3c580836ccf"
      },
      "execution_count": 4,
      "outputs": [
        {
          "output_type": "stream",
          "name": "stdout",
          "text": [
            "enter the number :1\n",
            "enter the number :1\n",
            "1\n",
            "enter the number :0\n",
            "enter the number :0\n",
            "1\n",
            "enter the number :0\n",
            "enter the number :1\n",
            "1\n",
            "enter the number :1\n",
            "enter the number :0\n",
            "1\n"
          ]
        }
      ]
    },
    {
      "cell_type": "code",
      "source": [
        "for i in range(4):\n",
        "  a=int(input(\"enter the number :\"))\n",
        "  b=int(input(\"enter the number :\"))\n",
        "  w=np.matrix([[0.5,-0.5]])\n",
        "  i=np.matrix([[a,b]])\n",
        "  h=(w*i.T)[0,0]\n",
        "  t=tn(h)\n",
        "  print(int(bool(t)))"
      ],
      "metadata": {
        "colab": {
          "base_uri": "https://localhost:8080/"
        },
        "id": "gON1ie501bcs",
        "outputId": "57bfb088-9517-46e2-8f98-a077c109cd2b"
      },
      "execution_count": 5,
      "outputs": [
        {
          "output_type": "stream",
          "name": "stdout",
          "text": [
            "enter the number :1\n",
            "enter the number :1\n",
            "0\n",
            "enter the number :0\n",
            "enter the number :0\n",
            "0\n",
            "enter the number :0\n",
            "enter the number :1\n",
            "1\n",
            "enter the number :1\n",
            "enter the number :0\n",
            "1\n"
          ]
        }
      ]
    },
    {
      "cell_type": "code",
      "source": [
        "for i in range(4):\n",
        "  a=int(input(\"enter the number :\"))\n",
        "  b=int(input(\"enter the number :\"))\n",
        "  w=np.matrix([[0.5,-0.5]])\n",
        "  i=np.matrix([[a,b]])\n",
        "  h=(w*i.T)[0,0]\n",
        "  t=relu(h)\n",
        "  print(int(bool(t)))"
      ],
      "metadata": {
        "colab": {
          "base_uri": "https://localhost:8080/"
        },
        "id": "xib7_m4F1dHj",
        "outputId": "9fe40938-2db9-4770-bb94-cdfbedfd83c4"
      },
      "execution_count": 9,
      "outputs": [
        {
          "output_type": "stream",
          "name": "stdout",
          "text": [
            "enter the number :1\n",
            "enter the number :1\n",
            "0\n",
            "enter the number :0\n",
            "enter the number :0\n",
            "0\n",
            "enter the number :1\n",
            "enter the number :0\n",
            "1\n",
            "enter the number :0\n",
            "enter the number :1\n",
            "0\n"
          ]
        }
      ]
    },
    {
      "cell_type": "code",
      "source": [
        "for i in range(4):\n",
        "  a=int(input(\"enter the number :\"))\n",
        "  b=int(input(\"enter the number :\"))\n",
        "  w=np.matrix([[0.5,-0.5]])\n",
        "  i=np.matrix([[a,b]])\n",
        "  h=(w*i.T)[0,0]\n",
        "  t=leaky_relu(h)\n",
        "  print(int(bool(t)))"
      ],
      "metadata": {
        "colab": {
          "base_uri": "https://localhost:8080/"
        },
        "id": "2jmdpWom1oYM",
        "outputId": "e86d71b6-a52b-4f35-9470-6c6748ac4ed1"
      },
      "execution_count": 10,
      "outputs": [
        {
          "output_type": "stream",
          "name": "stdout",
          "text": [
            "enter the number :1\n",
            "enter the number :1\n",
            "0\n",
            "enter the number :0\n",
            "enter the number :0\n",
            "0\n",
            "enter the number :0\n",
            "enter the number :1\n",
            "1\n",
            "enter the number :1\n",
            "enter the number :0\n",
            "1\n"
          ]
        }
      ]
    },
    {
      "cell_type": "code",
      "source": [
        "for i in range(4):\n",
        "  a=int(input(\"enter the number :\"))\n",
        "  b=int(input(\"enter the number :\"))\n",
        "  w=np.matrix([[0.5,-0.5]])\n",
        "  i=np.matrix([[a,b]])\n",
        "  h=(w*i.T)[0,0]\n",
        "  t=step_func(h)\n",
        "  print(int(bool(t)))"
      ],
      "metadata": {
        "colab": {
          "base_uri": "https://localhost:8080/"
        },
        "id": "spj8522r2B6U",
        "outputId": "2ea929c5-f67e-40c6-920d-6c3d5d8b1988"
      },
      "execution_count": 11,
      "outputs": [
        {
          "output_type": "stream",
          "name": "stdout",
          "text": [
            "enter the number :1\n",
            "enter the number :1\n",
            "0\n",
            "enter the number :0\n",
            "enter the number :1\n",
            "0\n",
            "enter the number :1\n",
            "enter the number :0\n",
            "1\n",
            "enter the number :0\n",
            "enter the number :0\n",
            "0\n"
          ]
        }
      ]
    },
    {
      "cell_type": "code",
      "source": [
        "weights={'w11': 0.3, 'w12': 0.3,\n",
        "    'w21': 0.2, 'w22': 0.2,\n",
        "    'w31': 0.08, 'w32': 0.14}\n",
        "\n",
        "i1 = 0.35\n",
        "i2 = 0.7\n",
        "target=0.5\n",
        "e=0.5*(target-o)**2\n",
        "\n",
        "h1=sigmoid(i1*weights['w11']+i2*weights['w21'])\n",
        "h2=sigmoid(i1*weights['w12']+i2*weights['w22'])\n",
        "o=tn(h1*weights['w31']+h2*weights['w32'])\n",
        "\n",
        "error=((target-o)/target)*100\n",
        "display(h1)\n",
        "display(h2)\n",
        "display(o)\n",
        "display(error)"
      ],
      "metadata": {
        "colab": {
          "base_uri": "https://localhost:8080/",
          "height": 86
        },
        "id": "6Xe_jM2R2HRi",
        "outputId": "def53050-80d8-4072-b711-43bb48c10a78"
      },
      "execution_count": 12,
      "outputs": [
        {
          "output_type": "display_data",
          "data": {
            "text/plain": [
              "1.7827045382418683"
            ]
          },
          "metadata": {}
        },
        {
          "output_type": "display_data",
          "data": {
            "text/plain": [
              "1.7827045382418683"
            ]
          },
          "metadata": {}
        },
        {
          "output_type": "display_data",
          "data": {
            "text/plain": [
              "0.3732509732796664"
            ]
          },
          "metadata": {}
        },
        {
          "output_type": "display_data",
          "data": {
            "text/plain": [
              "25.349805344066723"
            ]
          },
          "metadata": {}
        }
      ]
    },
    {
      "cell_type": "code",
      "source": [
        "h1=relu(i1*weights['w11']+i2*weights['w21'])\n",
        "h2=relu(i1*weights['w12']+i2*weights['w22'])\n",
        "o=relu(h1*weights['w31']+h2*weights['w32'])\n",
        "e=0.5*(target-o)**2\n",
        "\n",
        "error=((target-o)/target)*100\n",
        "display(h1)\n",
        "display(h2)\n",
        "display(o)\n",
        "display(error)"
      ],
      "metadata": {
        "colab": {
          "base_uri": "https://localhost:8080/",
          "height": 86
        },
        "id": "hcMEgdbp2PNV",
        "outputId": "61983c94-e5ca-4b4b-a7f1-0f4ae7fae556"
      },
      "execution_count": 13,
      "outputs": [
        {
          "output_type": "display_data",
          "data": {
            "text/plain": [
              "0.245"
            ]
          },
          "metadata": {}
        },
        {
          "output_type": "display_data",
          "data": {
            "text/plain": [
              "0.245"
            ]
          },
          "metadata": {}
        },
        {
          "output_type": "display_data",
          "data": {
            "text/plain": [
              "0.0539"
            ]
          },
          "metadata": {}
        },
        {
          "output_type": "display_data",
          "data": {
            "text/plain": [
              "89.22"
            ]
          },
          "metadata": {}
        }
      ]
    },
    {
      "cell_type": "code",
      "source": [
        "h1=leaky_relu(i1*weights['w11']+i2*weights['w21'])\n",
        "h2=leaky_relu(i1*weights['w12']+i2*weights['w22'])\n",
        "o=tn(h1*weights['w31']+h2*weights['w32'])\n",
        "\n",
        "error=((target-o)/target)*100\n",
        "display(h1)\n",
        "display(h2)\n",
        "display(o)\n",
        "display(error)"
      ],
      "metadata": {
        "colab": {
          "base_uri": "https://localhost:8080/",
          "height": 86
        },
        "id": "c9qK11Gt2aGM",
        "outputId": "f549c098-a329-4fbe-9dfb-36c9c307af97"
      },
      "execution_count": 14,
      "outputs": [
        {
          "output_type": "display_data",
          "data": {
            "text/plain": [
              "0.245"
            ]
          },
          "metadata": {}
        },
        {
          "output_type": "display_data",
          "data": {
            "text/plain": [
              "0.245"
            ]
          },
          "metadata": {}
        },
        {
          "output_type": "display_data",
          "data": {
            "text/plain": [
              "0.0538478636463177"
            ]
          },
          "metadata": {}
        },
        {
          "output_type": "display_data",
          "data": {
            "text/plain": [
              "89.23042727073646"
            ]
          },
          "metadata": {}
        }
      ]
    },
    {
      "cell_type": "code",
      "source": [
        "h1=step_func(i1*weights['w11']+i2*weights['w21'])\n",
        "h2=step_func(i1*weights['w12']+i2*weights['w22'])\n",
        "o=tn(h1*weights['w31']+h2*weights['w32'])\n",
        "\n",
        "error=((target-o)/target)*100\n",
        "display(h1)\n",
        "display(h2)\n",
        "display(o)\n",
        "display(error)"
      ],
      "metadata": {
        "colab": {
          "base_uri": "https://localhost:8080/",
          "height": 86
        },
        "id": "KrVYYOaa2apM",
        "outputId": "320bab5a-2880-447e-cc48-7fb05a87fab7"
      },
      "execution_count": 15,
      "outputs": [
        {
          "output_type": "display_data",
          "data": {
            "text/plain": [
              "1"
            ]
          },
          "metadata": {}
        },
        {
          "output_type": "display_data",
          "data": {
            "text/plain": [
              "1"
            ]
          },
          "metadata": {}
        },
        {
          "output_type": "display_data",
          "data": {
            "text/plain": [
              "0.21651806149302885"
            ]
          },
          "metadata": {}
        },
        {
          "output_type": "display_data",
          "data": {
            "text/plain": [
              "56.69638770139422"
            ]
          },
          "metadata": {}
        }
      ]
    },
    {
      "cell_type": "code",
      "source": [],
      "metadata": {
        "id": "Dx2pU3DX2di9"
      },
      "execution_count": null,
      "outputs": []
    }
  ]
}